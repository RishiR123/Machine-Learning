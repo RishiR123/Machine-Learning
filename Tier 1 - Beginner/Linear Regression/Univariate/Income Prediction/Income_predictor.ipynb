{
 "cells": [
  {
   "cell_type": "markdown",
   "metadata": {},
   "source": [
    "# Canada Per Capita Income Prediction Using Linear Regression\n",
    "\n",
    "This notebook demonstrates how to use Linear Regression to predict per capita income in Canada based on the year.\n",
    "\n",
    "We will go through the following steps:\n",
    "1. Load and explore the dataset\n",
    "2. Visualize the data\n",
    "3. Train a Linear Regression model\n",
    "4. Make predictions\n",
    "5. Plot the regression line\n"
   ]
  },
  {
   "cell_type": "code",
   "execution_count": null,
   "id": "c55a4c8f",
   "metadata": {},
   "outputs": [],
   "source": [
    "import pandas as pd\n",
    "import matplotlib.pyplot as plt\n",
    "from sklearn.linear_model import LinearRegression"
   ]
  },
  {
   "cell_type": "markdown",
   "metadata": {},
   "source": [
    "### Step 1: Load and explore the dataset\n",
    "\n",
    "We will load the data from the CSV file and rename the column for clarity."
   ]
  },
  {
   "cell_type": "code",
   "execution_count": null,
   "id": "e3a1ac8f",
   "metadata": {},
   "outputs": [],
   "source": [
    "data = pd.read_csv('canada_per_capita_income.csv')\n",
    "data.rename(columns={'per capita income (US$)': 'income'}, inplace=True)\n",
    "data"
   ]
  },
  {
   "cell_type": "markdown",
   "metadata": {},
   "source": [
    "### Step 2: Visualize the data\n",
    "\n",
    "Next, we will visualize the data to see the relationship between the year and the income."
   ]
  },
  {
   "cell_type": "code",
   "execution_count": null,
   "id": "99f47bfa",
   "metadata": {},
   "outputs": [],
   "source": [
    "plt.scatter(data[['year']], data.income, color='red')\n",
    "plt.xlabel('year(input)')\n",
    "plt.ylabel('income(output)')\n",
    "plt.title('Income vs Year')"
   ]
  },
  {
   "cell_type": "markdown",
   "metadata": {},
   "source": [
    "### Step 3: Train a Linear Regression model\n",
    "\n",
    "Now, we will define our input (year) and output (income) variables and train a linear regression model."
   ]
  },
  {
   "cell_type": "code",
   "execution_count": null,
   "id": "c5a45dbf",
   "metadata": {},
   "outputs": [],
   "source": [
    "model = LinearRegression()"
   ]
  },
  {
   "cell_type": "code",
   "execution_count": null,
   "id": "6c6a8c55",
   "metadata": {},
   "outputs": [],
   "source": [
    "input = data[['year']]\n",
    "output = data.income\n",
    "model.fit(input, output)"
   ]
  },
  {
   "cell_type": "markdown",
   "metadata": {},
   "source": [
    "### Step 4: Make Predictions\n",
    "\n",
    "We will load a new test dataset and use the trained model to make predictions for the income based on the year."
   ]
  },
  {
   "cell_type": "code",
   "execution_count": null,
   "id": "d8a0f729",
   "metadata": {},
   "outputs": [],
   "source": [
    "df = pd.read_csv('test.csv')\n",
    "predict = model.predict(df).astype('int')\n",
    "predict"
   ]
  },
  {
   "cell_type": "markdown",
   "metadata": {},
   "source": [
    "### Step 5: Manual Prediction Using Model Coefficients\n",
    "\n",
    "We can manually compute a prediction using the model's coefficients (slope and intercept) obtained from the linear regression formula:\n",
    "\n",
    "`y = mx + b`"
   ]
  },
  {
   "cell_type": "code",
   "execution_count": null,
   "id": "eb29d1fa",
   "metadata": {},
   "outputs": [],
   "source": [
    "# y = m*x + b\n",
    "# 828.46507522\n",
    "# -1632210.7578554575\n",
    "prediction = 828.46507522 * 2000 + -1632210.7578554575\n",
    "prediction"
   ]
  },
  {
   "cell_type": "markdown",
   "metadata": {},
   "source": [
    "### Step 6: Visualize the Regression Line\n",
    "\n",
    "Finally, let's plot the regression line along with the original data to see how well the model fits."
   ]
  },
  {
   "cell_type": "code",
   "execution_count": null,
   "id": "741bb295",
   "metadata": {},
   "outputs": [],
   "source": [
    "plt.scatter(data[['year']], data.income, color='red')\n",
    "plt.xlabel('year(input)')\n",
    "plt.ylabel('income(output)')\n",
    "plt.plot(data[['year']], model.predict(input), color='blue')\n",
    "plt.title('Linear Regression Fit: Income vs Year')\n",
    "plt.show()"
   ]
  }
 ],
 "metadata": {
  "kernelspec": {
   "display_name": "Python 3",
   "language": "python",
   "name": "python3"
  },
  "language_info": {
   "codemirror_mode": {
    "name": "ipython",
    "version": "3"
   },
   "file_extension": ".py",
   "mimetype": "text/x-python",
   "name": "python",
   "nbconvert_exporter": "python",
   "version": "3.9.12"
  }
 },
 "nbformat": 4,
 "nbformat_minor": 5
}
