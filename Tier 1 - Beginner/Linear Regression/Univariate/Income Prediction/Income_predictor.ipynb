# %%
import pandas as pd 
import matplotlib.pyplot as plt
from sklearn.linear_model import LinearRegression


# %%
%matplotlib inline

# %%
# Load the dataset
data = pd.read_csv("canada_per_capita_income.csv")
# Rename the column for better clarity
data.rename(columns={"per capita income (US$)" : "income" }, inplace=True)
data

# %%
# Visualize the data with a scatter plot
plt.scatter(data[["year"]], data.income , color = "red")
plt.xlabel("year(input)")
plt.ylabel("income(output)")

# %%
# Initialize the Linear Regression model
model = LinearRegression()

# %%
# Define the input and output for the model
input = data[["year"]]
output = data.income 

# Fit the model
model.fit(input , output)

# %%
# Load the test data for prediction
df = pd.read_csv("test.csv")

# Make predictions using the model
predict  = model.predict(df).astype("int")
predict

# %%
# Manually calculate the predicted income using the formula y = mx + b
# m = 828.46507522, b = -1632210.7578554575
prediction = 828.46507522 * 2000 + -1632210.7578554575
prediction

# %%
# Plot the regression line along with the original data
plt.scatter(data[["year"]], data.income , color = "red")
plt.xlabel("year(input)")
plt.ylabel("income(output)")
plt.plot(data[["year"]], model.predict(df))
