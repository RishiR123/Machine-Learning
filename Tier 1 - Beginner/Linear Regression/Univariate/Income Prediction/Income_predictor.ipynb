{
 "cells": [
  {
   "cell_type": "code",
   "execution_count": null,
   "id": "c55a4c8f",
   "metadata": {},
   "outputs": [],
   "source": [
    "import pandas as pd\n",
    "import matplotlib.pyplot as plt\n",
    "from sklearn.linear_model import LinearRegression"
   ]
  },
  {
   "cell_type": "code",
   "execution_count": null,
   "id": "d88d5d7c",
   "metadata": {},
   "outputs": [],
   "source": [
    "%matplotlib inline"
   ]
  },
  {
   "cell_type": "code",
   "execution_count": null,
   "id": "e3a1ac8f",
   "metadata": {},
   "outputs": [],
   "source": [
    "data = pd.read_csv('canada_per_capita_income.csv')\n",
    "data.rename(columns={'per capita income (US$)': 'income'}, inplace=True)\n",
    "data"
   ]
  },
  {
   "cell_type": "code",
   "execution_count": null,
   "id": "99f47bfa",
   "metadata": {},
   "outputs": [],
   "source": [
    "plt.scatter(data[['year']], data.income, color='red')\n",
    "plt.xlabel('year(input)')\n",
    "plt.ylabel('income(output)')"
   ]
  },
  {
   "cell_type": "code",
   "execution_count": null,
   "id": "c5a45dbf",
   "metadata": {},
   "outputs": [],
   "source": [
    "model = LinearRegression()"
   ]
  },
  {
   "cell_type": "code",
   "execution_count": null,
   "id": "6c6a8c55",
   "metadata": {},
   "outputs": [],
   "source": [
    "input = data[['year']]\n",
    "output = data.income\n",
    "model.fit(input, output)"
   ]
  },
  {
   "cell_type": "code",
   "execution_count": null,
   "id": "d8a0f729",
   "metadata": {},
   "outputs": [],
   "source": [
    "df = pd.read_csv('test.csv')\n",
    "predict = model.predict(df).astype('int')\n",
    "predict"
   ]
  },
  {
   "cell_type": "code",
   "execution_count": null,
   "id": "eb29d1fa",
   "metadata": {},
   "outputs": [],
   "source": [
    "# y = m*x + b\n",
    "# m = 828.46507522\n",
    "# b =-1632210.7578554575\n",
    "prediction = 828.46507522 * 2000 + -1632210.7578554575\n",
    "prediction"
   ]
  },
  {
   "cell_type": "code",
   "execution_count": null,
   "id": "741bb295",
   "metadata": {},
   "outputs": [],
   "source": [
    "plt.scatter(data[['year']], data.income, color='red')\n",
    "plt.xlabel('year(input)')\n",
    "plt.ylabel('income(output)')\n",
    "plt.plot(data[['year']], model.predict(df))"
   ]
  }
 ],
 "metadata": {
  "kernelspec": {
   "display_name": "Python 3",
   "language": "python",
   "name": "python3"
  },
  "language_info": {
   "codemirror_mode": {
    "name": "ipython",
    "version": "3"
   },
   "file_extension": ".py",
   "mimetype": "text/x-python",
   "name": "python",
   "nbconvert_exporter": "python",
   "version": "3.9.12"
  }
 },
 "nbformat": 4,
 "nbformat_minor": 5
}
