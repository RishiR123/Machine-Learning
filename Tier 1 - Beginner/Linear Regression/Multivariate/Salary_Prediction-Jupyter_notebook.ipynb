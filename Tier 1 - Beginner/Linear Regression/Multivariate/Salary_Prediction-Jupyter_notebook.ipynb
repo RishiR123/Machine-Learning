{
 "cells": [
  {
   "cell_type": "markdown",
   "metadata": {},
   "source": [
    "# Salary Prediction Using Linear Regression\n",
    "\n",
    "This notebook demonstrates how to predict salary based on three features: experience, test score, and interview score using linear regression."
   ]
  },
  {
   "cell_type": "code",
   "execution_count": null,
   "id": "fbd593a0",
   "metadata": {},
   "outputs": [],
   "source": [
    "import pandas as pd\n",
    "import sklearn.linear_model\n"
   ]
  },
  {
   "cell_type": "code",
   "execution_count": null,
   "id": "a92f32e2",
   "metadata": {},
   "outputs": [],
   "source": [
    "# Load and clean the data\n",
    "data = pd.read_csv('hiring.csv')\n",
    "exp = {'five': 5, 'two': 2, 'seven': 7, 'three': 3, 'ten': 10, 'eleven': 11}\n",
    "data['experience'] = data.experience.map(exp)\n",
    "data['experience'].fillna(data['experience'].median(), inplace=True)\n",
    "data['test_score(out of 10)'].fillna(data['test_score(out of 10)'].mean(), inplace=True)\n",
    "data"
   ]
  },
  {
   "cell_type": "code",
   "execution_count": null,
   "id": "2d64e4b2",
   "metadata": {},
   "outputs": [],
   "source": [
    "# Initialize and train the model\n",
    "model = sklearn.linear_model.LinearRegression()\n",
    "model.fit(data[['experience', 'test_score(out of 10)', 'interview_score(out of 10)']], data['salary($)'])\n"
   ]
  },
  {
   "cell_type": "code",
   "execution_count": null,
   "id": "8d209fe7",
   "metadata": {},
   "outputs": [],
   "source": [
    "# Model coefficients and intercept\n",
    "model.coef_, model.intercept_"
   ]
  },
  {
   "cell_type": "code",
   "execution_count": null,
   "id": "cb49f71b",
   "metadata": {},
   "outputs": [],
   "source": [
    "# Making a prediction\n",
    "prediction = model.predict([[7, 8, 9]])\n",
    "prediction"
   ]
  },
  {
   "cell_type": "code",
   "execution_count": null,
   "id": "d7b7f840",
   "metadata": {},
   "outputs": [],
   "source": [
    "# Manual calculation using model coefficients\n",
    "manual_prediction = 2823.76559304*7 + 1329.00027432*8 + 2929.14459978*9 + 11842.306307731225\n",
    "manual_prediction"
   ]
  }
 ],
 "metadata": {
  "kernelspec": {
   "display_name": "Python 3",
   "language": "python",
   "name": "python3"
  },
  "language_info": {
   "codemirror_mode": {
    "name": "ipython",
    "version": "3"
   },
   "file_extension": ".py",
   "mimetype": "text/x-python",
   "name": "python",
   "nbconvert_exporter": "python",
   "version": "3.9.12"
  }
 },
 "nbformat": 4,
 "nbformat_minor": 5
}
