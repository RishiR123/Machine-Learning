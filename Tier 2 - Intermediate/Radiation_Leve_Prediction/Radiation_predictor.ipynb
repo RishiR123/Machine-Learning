# %% [markdown]
# # Radiation Level Prediction Based on Environmental Factors
# This project uses synthetic data to predict radiation levels based on environmental factors like temperature, humidity, altitude, and distance from the source using regression.

# %%

import numpy as np
import pandas as pd

# Generate synthetic data
np.random.seed(42)
n_samples = 500
temperature = np.random.uniform(10, 40, n_samples)  # °C
humidity = np.random.uniform(20, 80, n_samples)     # %
altitude = np.random.uniform(0, 2000, n_samples)    # meters
distance = np.random.uniform(0.1, 10, n_samples)    # km

# Radiation levels (simplistic formula)
radiation = 0.5 * altitude / 100 + 5 / distance + np.random.normal(0, 0.5, n_samples)

# Create DataFrame
data = pd.DataFrame({
    'Temperature': temperature,
    'Humidity': humidity,
    'Altitude': altitude,
    'Distance': distance,
    'Radiation_Level': radiation
})

# Display first few rows of the dataset
data.head()
    

# %% [markdown]
# ## Model Training
# Train a regression model to predict radiation levels based on the generated data.

# %%

from sklearn.model_selection import train_test_split
from sklearn.linear_model import LinearRegression
from sklearn.metrics import mean_squared_error, r2_score

# Features and target
X = data[['Temperature', 'Humidity', 'Altitude', 'Distance']]
y = data['Radiation_Level']

# Split data
X_train, X_test, y_train, y_test = train_test_split(X, y, test_size=0.2, random_state=42)

# Train model
model = LinearRegression()
model.fit(X_train, y_train)

# Predictions
y_pred = model.predict(X_test)

# Evaluate
mse = mean_squared_error(y_test, y_pred)
r2 = r2_score(y_test, y_pred)
print(f"Mean Squared Error: {mse:.2f}")
print(f"R² Score: {r2:.2f}")
    

# %% [markdown]
# ## Visualization
# Plot the predicted vs actual radiation levels to evaluate the model's performance.

# %%

import matplotlib.pyplot as plt

# Predicted vs Actual
plt.scatter(y_test, y_pred, alpha=0.7)
plt.xlabel("Actual Radiation Levels")
plt.ylabel("Predicted Radiation Levels")
plt.title("Actual vs Predicted")
plt.show()
    



